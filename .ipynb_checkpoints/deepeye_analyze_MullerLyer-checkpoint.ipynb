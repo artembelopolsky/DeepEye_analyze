{
 "cells": [
  {
   "cell_type": "markdown",
   "id": "20d25656",
   "metadata": {},
   "source": [
    "# Import libraries"
   ]
  },
  {
   "cell_type": "code",
   "execution_count": 6,
   "id": "c6b2b01a",
   "metadata": {},
   "outputs": [
    {
     "name": "stdout",
     "output_type": "stream",
     "text": [
      "Warning: Cannot change to a different GUI toolkit: notebook. Using qt5 instead.\n"
     ]
    }
   ],
   "source": [
    "import pandas as pd\n",
    "import numpy as np\n",
    "import matplotlib.pyplot as plt\n",
    "from matplotlib import cm\n",
    "import os\n",
    "import astropy.convolution as krn\n",
    "import scipy.stats as stats\n",
    "import sys\n",
    "\n",
    "import matplotlib.pyplot as plt\n",
    "from matplotlib.widgets import Button\n",
    "\n",
    "# Enable interactive Matplotlib plots in the notebook\n",
    "# %matplotlib notebook\n",
    "%matplotlib qt5"
   ]
  },
  {
   "cell_type": "code",
   "execution_count": 2,
   "id": "6896d878",
   "metadata": {},
   "outputs": [],
   "source": [
    "\n",
    "\n",
    "data = {'X': [1, 2, 3, 4, 5],\n",
    "        'Y': [10, 11, 14, 13, 12]}\n",
    "df = pd.DataFrame(data)\n",
    "\n",
    "current_index = 0\n",
    "\n",
    "def update_plot(event):\n",
    "    global current_index\n",
    "    if current_index < len(df) - 1:\n",
    "        current_index += 1\n",
    "        update()\n",
    "\n",
    "def update():\n",
    "    plt.clf()  # Clear the current figure\n",
    "    plt.scatter(df['X'][:current_index + 1], df['Y'][:current_index + 1], marker='o', label='Data')\n",
    "    plt.xlabel('X')\n",
    "    plt.ylabel('Y')\n",
    "    plt.legend()\n",
    "    plt.title('Interactive Plot')\n",
    "    plt.grid(True)\n",
    "    plt.draw()"
   ]
  },
  {
   "cell_type": "code",
   "execution_count": 3,
   "id": "5bce28d4",
   "metadata": {},
   "outputs": [],
   "source": [
    "plt.figure(figsize=(8, 6))\n",
    "update()"
   ]
  },
  {
   "cell_type": "code",
   "execution_count": 4,
   "id": "36f74152",
   "metadata": {},
   "outputs": [
    {
     "data": {
      "text/plain": [
       "0"
      ]
     },
     "execution_count": 4,
     "metadata": {},
     "output_type": "execute_result"
    }
   ],
   "source": [
    "ax_button = plt.axes([0.8, 0.01, 0.1, 0.05])  # Define the button's position\n",
    "button = Button(ax_button, 'Next')\n",
    "button.on_clicked(update_plot)  # Connect the button to the update_plot function"
   ]
  },
  {
   "cell_type": "code",
   "execution_count": 5,
   "id": "fd14ad1d",
   "metadata": {},
   "outputs": [],
   "source": [
    "plt.show()"
   ]
  },
  {
   "cell_type": "code",
   "execution_count": 39,
   "id": "48117feb",
   "metadata": {},
   "outputs": [],
   "source": [
    "def makeHeat(screenRes, xPos, yPos):\n",
    "        xMax = screenRes[0]\n",
    "        yMax = screenRes[1]\n",
    "        xMin = 0\n",
    "        yMin = 0\n",
    "        kernelPar = 50\n",
    "\n",
    "        # Input handeling\n",
    "        xlim = np.logical_and(xPos < xMax, xPos > xMin)\n",
    "        ylim = np.logical_and(yPos < yMax, yPos > yMin)\n",
    "        xyLim = np.logical_and(xlim, ylim)\n",
    "        dataX = xPos[xyLim]\n",
    "        dataX = np.floor(dataX)\n",
    "        dataY = yPos[xyLim]\n",
    "        dataY = np.floor(dataY)\n",
    "\n",
    "        # initiate map and gauskernel\n",
    "        gazeMap = np.zeros([int((xMax-xMin)),int((yMax-yMin))])+0.0001\n",
    "        gausKernel = krn.Gaussian2DKernel(kernelPar)\n",
    "\n",
    "        # Rescale the position vectors (if xmin or ymin != 0)\n",
    "        dataX -= xMin\n",
    "        dataY -= yMin\n",
    "\n",
    "        # Now extract all the unique positions and number of samples\n",
    "        xy = np.vstack((dataX, dataY)).T\n",
    "        uniqueXY, idx, counts = uniqueRows(xy)\n",
    "        uniqueXY = uniqueXY.astype(int)\n",
    "        # populate the gazeMap\n",
    "        gazeMap[uniqueXY[:,0], uniqueXY[:,1]] = counts\n",
    "\n",
    "        # Convolve the gaze with the gauskernel\n",
    "        heatMap = np.transpose(krn.convolve_fft(gazeMap,gausKernel))\n",
    "        heatMap = heatMap/np.max(heatMap)\n",
    "\n",
    "        return heatMap\n",
    "\n",
    "def uniqueRows(x):\n",
    "    y = np.ascontiguousarray(x).view(np.dtype((np.void, x.dtype.itemsize * x.shape[1])))\n",
    "    _, idx, counts = np.unique(y, return_index=True, return_counts = True)\n",
    "    uniques = x[idx]\n",
    "    return uniques, idx, counts\n",
    "\n",
    "\n",
    "def np_euclidean_distance(y_true, y_pred):\n",
    "\n",
    "    y_true = np.array(y_true)\n",
    "    y_pred = np.array(y_pred)\n",
    "    return np.sqrt(np.sum(np.square(y_pred - y_true), axis=-1))\n",
    "\n"
   ]
  },
  {
   "cell_type": "markdown",
   "id": "a63bc616",
   "metadata": {},
   "source": [
    "# Preprocess, extract fixations and add them to the dataframe"
   ]
  },
  {
   "cell_type": "code",
   "execution_count": 42,
   "id": "0ff37177",
   "metadata": {},
   "outputs": [
    {
     "name": "stdout",
     "output_type": "stream",
     "text": [
      "\n",
      "\n",
      "\n",
      "Importing and processing: \"C:/Users/artem/Dropbox/Appliedwork/CognitiveSolutions/Projects/DeepEye/TechnicalReports/TechnicalReport1/Test_MullerLyer\\2023_06_27_08_39_36\\2023_06_27_08_39_36_record.csv\"\n",
      "\tSearching for valid interpolation windows\n",
      "\tReplace interpolation windows with Steffen interpolation\n",
      "\t2-Means clustering started for averaged signal\n",
      "\tDetermining fixations based on clustering weight mean for averaged signal and separate eyes + 2*std\n",
      "\n",
      "\n",
      "I2MC took 3.9205915927886963s to finish!\n"
     ]
    },
    {
     "name": "stderr",
     "output_type": "stream",
     "text": [
      "C:\\Users\\artem\\anaconda3\\envs\\default\\lib\\site-packages\\numpy\\lib\\nanfunctions.py:1215: RuntimeWarning: Mean of empty slice\n",
      "  return np.nanmean(a, axis, out=out, keepdims=keepdims)\n",
      "C:\\Users\\artem\\anaconda3\\envs\\default\\lib\\site-packages\\numpy\\core\\fromnumeric.py:3464: RuntimeWarning: Mean of empty slice.\n",
      "  return _methods._mean(a, axis=axis, dtype=dtype,\n"
     ]
    }
   ],
   "source": [
    "sys.path.append('./FixationDetection')\n",
    "from I2MC import runI2MC\n",
    "\n",
    "# Path to data folders\n",
    "path_to_folders = 'C:/Users/artem/Dropbox/Appliedwork/CognitiveSolutions/Projects/DeepEye/TechnicalReports/TechnicalReport1/Test_MullerLyer'\n",
    "# path_to_folders = 'D:/Dropbox/Appliedwork/CognitiveSolutions/Projects/DeepEye/TechnicalReports/TechnicalReport1/Test_MullerLyer'\n",
    "\n",
    "# get all folder names\n",
    "folder_names = os.listdir(path_to_folders)\n",
    "\n",
    "# read and process original datafile for each participant\n",
    "for fn in folder_names:\n",
    "    path = os.path.join(path_to_folders, fn, fn+'_record.csv')       \n",
    "        \n",
    "    df = pd.read_csv(path)        \n",
    "\n",
    "# order frames and drop duplicate samples (with same sampleTime)\n",
    "df = df[df.fName.notna()]\n",
    "df = df[df.frameNr.notna()]\n",
    "df = df.apply(pd.to_numeric, errors='ignore')\n",
    "\n",
    "df = df.sort_values('frameNr')\n",
    "df = df.reset_index(drop=True)\n",
    "# df = df.drop_duplicates(subset=['user_pred_px_x', 'user_pred_px_y'], ignore_index=True)\n",
    "df = df.drop_duplicates(subset=['sampTime'], ignore_index=True)\n",
    "\n",
    "# get fixations for the original datafile for each participant\n",
    "fixDF = runI2MC(path, plotData = False)\n",
    "\n",
    "# add extracted fixations to the original data file (two new columns)\n",
    "# for each timestamp where fixation was detected, FixXPos and FixYPos are added\n",
    "idx = 0 # index of fixDF\n",
    "FixXPos = np.zeros(df.shape[0])\n",
    "FixYPos = np.zeros(df.shape[0])\n",
    "FixStartEnd = np.empty(df.shape[0], dtype='U10')\n",
    "FixStartEnd.fill('') # explicitly fill the array (good practice)\n",
    "\n",
    "DistFromPrevFix = np.zeros(df.shape[0])\n",
    "prev_fix_x = False # keep track of xy when fixation ends\n",
    "prev_fix_y = False\n",
    "\n",
    "PrevFixSampTime = np.zeros(df.shape[0])\n",
    "prev_fix_sampTime = 0\n",
    "\n",
    "# iterate thru the original dataframe, thru each sample\n",
    "for index, row in df.iterrows():\n",
    "    \n",
    "    # make sure not to iterate out of range\n",
    "    if idx < fixDF.shape[0]:\n",
    "        \n",
    "        # go to next fixation when fixation ends\n",
    "        if row['sampTime'] > np.array(fixDF.FixEnd)[idx]:\n",
    "                idx += 1\n",
    "        \n",
    "        # make sure not to iterate out of range\n",
    "        if idx < fixDF.shape[0]:\n",
    "            \n",
    "            # when samples are within fixation, accumulate FixXPos and FixYPos\n",
    "            if row['sampTime'] >= np.array(fixDF.FixStart)[idx] and row['sampTime'] <= np.array(fixDF.FixEnd)[idx]:\n",
    "\n",
    "                FixXPos[index] = (np.array(fixDF.XPos)[idx])\n",
    "                FixYPos[index] = (np.array(fixDF.YPos)[idx])\n",
    "            \n",
    "            # label samples on which fixation starts and ends\n",
    "            if row['sampTime'] == np.array(fixDF.FixStart)[idx]:             \n",
    "                FixStartEnd[index] = 'fix_start'\n",
    "                \n",
    "                if prev_fix_x != False:\n",
    "                    DistFromPrevFix[index] = np.sqrt((np.array(fixDF.XPos)[idx] - prev_fix_x)**2 \n",
    "                                            + (np.array(fixDF.YPos)[idx] - prev_fix_y)**2)\n",
    "                    PrevFixSampTime[index] = prev_fix_sampTime\n",
    "            \n",
    "            elif row['sampTime'] == np.array(fixDF.FixEnd)[idx]:                \n",
    "                FixStartEnd[index] = 'fix_end'             \n",
    "                                    \n",
    "                prev_fix_x = np.array(fixDF.XPos)[idx]\n",
    "                prev_fix_y = np.array(fixDF.YPos)[idx]\n",
    "                prev_fix_sampTime = np.array(row['sampTime'])\n",
    "                \n",
    "       \n",
    "\n",
    " \n",
    "# add fixations to original dataframe\n",
    "df['FixXPos'] = np.array(FixXPos)\n",
    "df['FixYPos'] = np.array(FixYPos)\n",
    "df['FixStartEnd'] = FixStartEnd\n",
    "df['DistFromPrevFix'] = DistFromPrevFix\n",
    "df['PrevFixSampTime'] = PrevFixSampTime\n",
    "\n",
    "\n",
    "# Extract only samples when the target was presented\n",
    "df = df[df.event=='target_on']\n",
    "\n"
   ]
  },
  {
   "cell_type": "markdown",
   "id": "2c153636",
   "metadata": {},
   "source": [
    "# Get and plot saccade latency distribution"
   ]
  },
  {
   "cell_type": "code",
   "execution_count": 43,
   "id": "c2457502",
   "metadata": {},
   "outputs": [
    {
     "data": {
      "text/plain": [
       "Text(0.5, 0, 'Sacade latency (ms)')"
      ]
     },
     "execution_count": 43,
     "metadata": {},
     "output_type": "execute_result"
    }
   ],
   "source": [
    "# Get saccade latency\n",
    "\n",
    "# get the first time sample when the target is presented\n",
    "b = df.drop_duplicates(subset=['trialNr'],  keep='first', ignore_index=True)\n",
    "\n",
    "# extract the columns needed\n",
    "b = b[['trialNr', 'sampTime']]\n",
    "\n",
    "# rename the columns so they would be added\n",
    "b.columns = ['trialNr', 'targSampTime']\n",
    "\n",
    "# merge the target time into the main df (one time per trial)\n",
    "df = pd.merge(df, b, on=\"trialNr\")\n",
    "\n",
    "# get samples where fixation ended\n",
    "a = df[df.FixStartEnd == 'fix_start']\n",
    "\n",
    "# get samples with large enough preceeding saccade\n",
    "a = a[a.DistFromPrevFix > 300]\n",
    "\n",
    "# computs first fixation duration\n",
    "c = a.PrevFixSampTime - a.targSampTime\n",
    "a['FixDur'] = c\n",
    "# plot first fixation durations (saccade latencies)\n",
    "plt.figure()\n",
    "plt.style.use('ggplot')\n",
    "plt.hist(c)\n",
    "plt.xlabel('Sacade latency (ms)')\n",
    "\n",
    "# save figure\n",
    "# plt.savefig('./Figures_MullerLyer/saccade_latency.jpg', dpi=1000, pad_inches=0)\n"
   ]
  },
  {
   "cell_type": "markdown",
   "id": "0b73b58c",
   "metadata": {},
   "source": [
    "# 1D Plot to compare raw samples to fixations\n",
    "\n",
    "### 1. Plot separately for target left and target right\n",
    "### 2. while looping through each trial\n",
    "    a. rescale time variable to start from 0\n",
    "    b. plot all raw x\n",
    "    c. plot all fixationXPos\n",
    "    d. zeros indicate saccade/no fixation"
   ]
  },
  {
   "cell_type": "code",
   "execution_count": 6,
   "id": "2f51d3e1",
   "metadata": {},
   "outputs": [],
   "source": [
    "\n",
    "conditions = ['right', 'left']\n",
    "\n",
    "\n",
    "for cond in conditions:\n",
    "    \n",
    "    plt.figure()\n",
    "    plt.style.use('ggplot')\n",
    "    plt.title(f'Target {cond}')\n",
    "    \n",
    "    a = df[df.target==cond]\n",
    "\n",
    "    for name, group in a.groupby('trialNr'):\n",
    "        t = np.array(group.sampTime)\n",
    "        t = t-t[0]\n",
    "        raw_h = plt.scatter(t, group.user_pred_px_x, c='orange', alpha=0.5, edgecolors='black')\n",
    "        fix_h = plt.scatter(t, group.FixXPos, c='blue', alpha=0.5, edgecolors='black')\n",
    "\n",
    "    plt.plot(t, group.targetX, c='green', lw=1)\n",
    "    plt.plot(t, group.fixationStimX, c='red', lw=1, linestyle='dashed')\n",
    "    \n",
    "    plt.xlabel('Time (ms)')\n",
    "    plt.ylabel('Horizontal eye position (pixels)')\n",
    "    \n",
    "    plt.legend((raw_h, fix_h), ('raw samples', 'fixations'), scatterpoints=1)\n",
    "    \n",
    "    # save figure\n",
    "#     plt.savefig(f'./Figures_MullerLyer/1D_{cond}.jpg', dpi=1000, pad_inches=0)\n"
   ]
  },
  {
   "cell_type": "markdown",
   "id": "b3cf86d4",
   "metadata": {},
   "source": [
    "# 2D plot of fixations and raw samples\n",
    "\n",
    "## 1. plot all raw x,y\n",
    "## 2. plot all fixations x,y \n"
   ]
  },
  {
   "cell_type": "code",
   "execution_count": 9,
   "id": "eb343421",
   "metadata": {},
   "outputs": [],
   "source": [
    "conditions = ['right', 'left']\n",
    "\n",
    "\n",
    "for cond in conditions:\n",
    "    \n",
    "    plt.figure()\n",
    "    plt.style.use('ggplot')\n",
    "    plt.title(f'Target {cond}')\n",
    "        \n",
    "    # select condition\n",
    "    a = df[df.target==cond]\n",
    "            \n",
    "    raw_h = plt.scatter(a.user_pred_px_x, a.user_pred_px_y, c='orange', alpha=0.5, edgecolors='black')\n",
    "    \n",
    "     # remove no fixations/saccades (zeros)\n",
    "    fix_h = plt.scatter(a.FixXPos[a.FixXPos>0], a.FixYPos[a.FixYPos>0], c='blue', alpha=0.5, edgecolors='black')\n",
    "    \n",
    "    # plot target and fixation cirle\n",
    "    plt.scatter(a.fixationStimX, a.fixationStimY, c='red')\n",
    "    plt.scatter(a.targetX, a.fixationStimY, c='green')\n",
    "    \n",
    "    # plot target and fixation vertical lines\n",
    "    plt.plot(np.ones(df.resY.iloc[0].astype('int')) * a.fixationStimX.iloc[0], np.arange(df.resY.iloc[0]), c='red', lw=1, linestyle='dashed')\n",
    "    plt.plot(np.ones(df.resY.iloc[0].astype('int')) * a.targetX.iloc[0], np.arange(df.resY.iloc[0]), c='green', lw=1, linestyle='dashed')\n",
    "    \n",
    "    plt.xlim((0, df.resX.iloc[0]))\n",
    "    plt.ylim((df.resY.iloc[0]), 0)\n",
    "    \n",
    "    plt.xlabel('Horizontal eye position (pixels)')\n",
    "    plt.ylabel('Vertical eye position (pixels)')\n",
    "    \n",
    "    plt.legend((raw_h, fix_h), ('raw samples', 'fixations'), scatterpoints=1)\n",
    "    \n",
    "    # save figure\n",
    "#     plt.savefig(f'./Figures_MullerLyer/2D_{cond}.jpg', dpi=1000, pad_inches=0)\n"
   ]
  },
  {
   "cell_type": "markdown",
   "id": "ccf3b0a0",
   "metadata": {},
   "source": [
    "# Optional: make 2D plot for every trial"
   ]
  },
  {
   "cell_type": "code",
   "execution_count": 46,
   "id": "6b884a0c",
   "metadata": {},
   "outputs": [
    {
     "name": "stderr",
     "output_type": "stream",
     "text": [
      "C:\\Users\\artem\\AppData\\Local\\Temp\\ipykernel_22788\\1758334722.py:15: RuntimeWarning: More than 20 figures have been opened. Figures created through the pyplot interface (`matplotlib.pyplot.figure`) are retained until explicitly closed and may consume too much memory. (To control this warning, see the rcParam `figure.max_open_warning`). Consider using `matplotlib.pyplot.close()`.\n",
      "  plt.figure()\n"
     ]
    }
   ],
   "source": [
    "# Plot every trial\n",
    "\n",
    "conditions = ['right', 'left']\n",
    "\n",
    "\n",
    "for cond in conditions:\n",
    "    \n",
    "    # select condition\n",
    "    b = df[df.target==cond]\n",
    "    \n",
    "    for trial in b.trialNr.unique():\n",
    "        \n",
    "        a = b[b.trialNr == trial]\n",
    "\n",
    "        plt.figure()\n",
    "        plt.style.use('ggplot')\n",
    "        plt.title(f'Target {cond}, Trial {trial}')        \n",
    "\n",
    "\n",
    "        raw_h = plt.scatter(a.user_pred_px_x, a.user_pred_px_y, c='orange', alpha=0.5, edgecolors='black')\n",
    "\n",
    "         # remove no fixations/saccades (zeros)\n",
    "        fix_h = plt.scatter(a.FixXPos[a.FixXPos>0], a.FixYPos[a.FixYPos>0], c='blue', alpha=0.5, edgecolors='black')\n",
    "\n",
    "        # plot target and fixation cirle\n",
    "        plt.scatter(a.fixationStimX, a.fixationStimY, c='red')\n",
    "        plt.scatter(a.targetX, a.fixationStimY, c='green')\n",
    "\n",
    "        # plot target and fixation vertical lines\n",
    "        plt.plot(np.ones(df.resY.iloc[0].astype('int')) * a.fixationStimX.iloc[0], np.arange(df.resY.iloc[0]), c='red', lw=1, linestyle='dashed')\n",
    "        plt.plot(np.ones(df.resY.iloc[0].astype('int')) * a.targetX.iloc[0], np.arange(df.resY.iloc[0]), c='green', lw=1, linestyle='dashed')\n",
    "\n",
    "        plt.xlim((0, df.resX.iloc[0]))\n",
    "        plt.ylim((df.resY.iloc[0]), 0)\n",
    "\n",
    "        plt.xlabel('Horizontal eye position (pixels)')\n",
    "        plt.ylabel('Vertical eye position (pixels)')\n",
    "\n",
    "        plt.legend((raw_h, fix_h), ('raw samples', 'fixations'), scatterpoints=1)\n",
    "\n",
    "\n"
   ]
  },
  {
   "cell_type": "markdown",
   "id": "12803212",
   "metadata": {},
   "source": [
    "# Compare landing position between outward and inward arrows"
   ]
  },
  {
   "cell_type": "code",
   "execution_count": 7,
   "id": "a547821d",
   "metadata": {},
   "outputs": [],
   "source": [
    "def plot_fixations(df, cond='', agg='median', title=''):\n",
    "    \n",
    "    plt.style.use('ggplot')\n",
    "#     plt.grid(False)\n",
    "#     plt.set_axis_bgcolor('white')\n",
    "    \n",
    "    \n",
    "    out = df[df.condition=='arrowHeadsOutward']\n",
    "    inw = df[df.condition=='arrowHeadsInward']\n",
    "\n",
    "    if agg=='median':\n",
    "        \n",
    "        outX = out.FixXPos.median()\n",
    "        outY = out.FixYPos.median()\n",
    "\n",
    "        inwX = inw.FixXPos.median()\n",
    "        inwY = inw.FixYPos.median()\n",
    "        \n",
    "    elif agg=='mean':\n",
    "        \n",
    "        outX = out.FixXPos.mean()\n",
    "        outY = out.FixYPos.mean()\n",
    "\n",
    "        inwX = inw.FixXPos.mean()\n",
    "        inwY = inw.FixYPos.mean()\n",
    "        \n",
    "        \n",
    "\n",
    "    plt.figure()    \n",
    "    plt.title(title);\n",
    "    \n",
    "    \n",
    "    out_h = plt.scatter(out.FixXPos, out.FixYPos, c='blue', alpha=0.5, edgecolors='black')\n",
    "    inw_h = plt.scatter(inw.FixXPos, inw.FixYPos, c='orange', alpha=0.5,edgecolors='black')\n",
    "    \n",
    "    plt.scatter(out.fixationStimX, out.fixationStimY, c='red')\n",
    "    plt.scatter(out.targetX, out.fixationStimY, c='green')\n",
    "    \n",
    "    \n",
    "    # plot target and fixation vertical lines\n",
    "    plt.plot(np.ones(df.resY.iloc[0].astype('int')) * df.fixationStimX.iloc[0], np.arange(df.resY.iloc[0]), c='red', lw=1, linestyle='dashed')\n",
    "    plt.plot(np.ones(df.resY.iloc[0].astype('int')) * df.targetX.iloc[0], np.arange(df.resY.iloc[0]), c='green', lw=1, linestyle='dashed')    \n",
    "\n",
    "    plt.scatter(outX, outY, c='purple', edgecolors='black')\n",
    "    plt.scatter(inwX, inwY, c='darkorange', edgecolors='black')\n",
    "    \n",
    "    # plot inward and outward vertical lines\n",
    "    plt.plot(np.ones(df.resY.iloc[0].astype('int')) * outX, np.arange(df.resY.iloc[0]), c='purple', lw=1, linestyle='dashed')\n",
    "    plt.plot(np.ones(df.resY.iloc[0].astype('int')) * inwX, np.arange(df.resY.iloc[0]), c='darkorange', lw=1, linestyle='dashed')    \n",
    "    \n",
    "    plt.xlim((0, df.resX.iloc[0]))\n",
    "    plt.ylim((df.resY.iloc[0], 0))\n",
    "    \n",
    "    plt.xlabel('Horizontal eye position (pixels)')\n",
    "    plt.ylabel('Vertical eye position (pixels)')\n",
    "    \n",
    "    plt.legend((out_h, inw_h), ('outward arrowheads', 'inward arrowheads'), scatterpoints=1)\n",
    "    \n",
    "    \n",
    "    plt.text(150,700,f'Outward Arrow Xpos: {np.round(outX,1)}')\n",
    "    plt.text(150,750,f'Inward Arrow Xpos: {np.round(inwX, 1)}')\n",
    "    \n",
    "    # save figure\n",
    "#     plt.savefig(f'./Figures_MullerLyer/{cond}_OutInw.jpg', dpi=1000, pad_inches=0)\n",
    "\n",
    "\n",
    "    return outX, outY, inwX, inwY\n",
    "\n"
   ]
  },
  {
   "cell_type": "code",
   "execution_count": 8,
   "id": "95ab0a9f",
   "metadata": {},
   "outputs": [
    {
     "name": "stdout",
     "output_type": "stream",
     "text": [
      "Target Left Outward Arrow: 448.8620683364056\n",
      "Target Left Inward Arrow: 437.3078621980502\n",
      "Target Right Outward Arrow: 845.0467040708915\n",
      "Target Right Inward Arrow: 849.4948534924471\n"
     ]
    }
   ],
   "source": [
    "# Min distance to target in pixes\n",
    "pix_in_cm = df.resX.iloc[0]/df.scrW_cm.iloc[0]\n",
    "minDistTarg = pix_in_cm * 3\n",
    "\n",
    "# get samples where fixation ended\n",
    "a = df[df.FixStartEnd == 'fix_start']\n",
    "\n",
    "# get samples with large enough preceeding saccade\n",
    "a = a[a.DistFromPrevFix > 300]\n",
    "\n",
    "# computes first fixation duration\n",
    "c = a.PrevFixSampTime - a.targSampTime\n",
    "a['FixDur'] = c\n",
    "\n",
    "Left = a[a.target=='left']\n",
    "out = Left[Left.condition=='arrowHeadsOutward']\n",
    "inw = Left[Left.condition=='arrowHeadsInward']\n",
    "print(f'Target Left Outward Arrow: {out.FixXPos.mean()}')\n",
    "print(f'Target Left Inward Arrow: {inw.FixXPos.mean()}')\n",
    "\n",
    "Right = a[a.target=='right']\n",
    "out = Right[Right.condition=='arrowHeadsOutward']\n",
    "inw = Right[Right.condition=='arrowHeadsInward']\n",
    "print(f'Target Right Outward Arrow: {out.FixXPos.mean()}')\n",
    "print(f'Target Right Inward Arrow: {inw.FixXPos.mean()}')\n",
    "\n",
    "\n",
    "# Plot\n",
    "summary_right = plot_fixations(Right, cond='right', agg='mean', title='Target Right')\n",
    "summary_left = plot_fixations(Left, cond='left', agg='mean', title='Target Left')\n",
    "\n"
   ]
  },
  {
   "cell_type": "code",
   "execution_count": null,
   "id": "e1afddd0",
   "metadata": {},
   "outputs": [],
   "source": []
  },
  {
   "cell_type": "markdown",
   "id": "842728e7",
   "metadata": {},
   "source": [
    "### Plot heatmaps per each condition\n",
    "Gaze positions for all subjects are combined"
   ]
  },
  {
   "cell_type": "code",
   "execution_count": null,
   "id": "412410f4",
   "metadata": {},
   "outputs": [],
   "source": [
    "# Import fixations into output file\n",
    "\n",
    "\n"
   ]
  },
  {
   "cell_type": "markdown",
   "id": "56d3cb72",
   "metadata": {},
   "source": [
    "### To do\n",
    "1. Summarize the incomplete datasets (failed calibration, other reasons)"
   ]
  }
 ],
 "metadata": {
  "kernelspec": {
   "display_name": "Python 3 (ipykernel)",
   "language": "python",
   "name": "python3"
  },
  "language_info": {
   "codemirror_mode": {
    "name": "ipython",
    "version": 3
   },
   "file_extension": ".py",
   "mimetype": "text/x-python",
   "name": "python",
   "nbconvert_exporter": "python",
   "pygments_lexer": "ipython3",
   "version": "3.10.10"
  }
 },
 "nbformat": 4,
 "nbformat_minor": 5
}
