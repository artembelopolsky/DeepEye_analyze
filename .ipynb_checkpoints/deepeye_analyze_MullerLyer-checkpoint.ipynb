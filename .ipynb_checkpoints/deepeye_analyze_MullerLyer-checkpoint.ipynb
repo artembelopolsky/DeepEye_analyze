{
 "cells": [
  {
   "cell_type": "markdown",
   "id": "a9a341c1",
   "metadata": {},
   "source": [
    "### Import libraries"
   ]
  },
  {
   "cell_type": "code",
   "execution_count": 9,
   "id": "6d7b94f1",
   "metadata": {},
   "outputs": [],
   "source": [
    "import pandas as pd\n",
    "import numpy as np\n",
    "import matplotlib.pyplot as plt\n",
    "from matplotlib import cm\n",
    "import os\n",
    "import astropy.convolution as krn\n",
    "import scipy.stats as stats\n",
    "import sys"
   ]
  },
  {
   "cell_type": "code",
   "execution_count": 10,
   "id": "c47b3b93",
   "metadata": {},
   "outputs": [],
   "source": [
    "def makeHeat(screenRes, xPos, yPos):\n",
    "        xMax = screenRes[0]\n",
    "        yMax = screenRes[1]\n",
    "        xMin = 0\n",
    "        yMin = 0\n",
    "        kernelPar = 50\n",
    "\n",
    "        # Input handeling\n",
    "        xlim = np.logical_and(xPos < xMax, xPos > xMin)\n",
    "        ylim = np.logical_and(yPos < yMax, yPos > yMin)\n",
    "        xyLim = np.logical_and(xlim, ylim)\n",
    "        dataX = xPos[xyLim]\n",
    "        dataX = np.floor(dataX)\n",
    "        dataY = yPos[xyLim]\n",
    "        dataY = np.floor(dataY)\n",
    "\n",
    "        # initiate map and gauskernel\n",
    "        gazeMap = np.zeros([int((xMax-xMin)),int((yMax-yMin))])+0.0001\n",
    "        gausKernel = krn.Gaussian2DKernel(kernelPar)\n",
    "\n",
    "        # Rescale the position vectors (if xmin or ymin != 0)\n",
    "        dataX -= xMin\n",
    "        dataY -= yMin\n",
    "\n",
    "        # Now extract all the unique positions and number of samples\n",
    "        xy = np.vstack((dataX, dataY)).T\n",
    "        uniqueXY, idx, counts = uniqueRows(xy)\n",
    "        uniqueXY = uniqueXY.astype(int)\n",
    "        # populate the gazeMap\n",
    "        gazeMap[uniqueXY[:,0], uniqueXY[:,1]] = counts\n",
    "\n",
    "        # Convolve the gaze with the gauskernel\n",
    "        heatMap = np.transpose(krn.convolve_fft(gazeMap,gausKernel))\n",
    "        heatMap = heatMap/np.max(heatMap)\n",
    "\n",
    "        return heatMap\n",
    "\n",
    "def uniqueRows(x):\n",
    "    y = np.ascontiguousarray(x).view(np.dtype((np.void, x.dtype.itemsize * x.shape[1])))\n",
    "    _, idx, counts = np.unique(y, return_index=True, return_counts = True)\n",
    "    uniques = x[idx]\n",
    "    return uniques, idx, counts\n",
    "\n",
    "\n",
    "def np_euclidean_distance(y_true, y_pred):\n",
    "\n",
    "    y_true = np.array(y_true)\n",
    "    y_pred = np.array(y_pred)\n",
    "    return np.sqrt(np.sum(np.square(y_pred - y_true), axis=-1))\n",
    "\n"
   ]
  },
  {
   "cell_type": "markdown",
   "id": "ae9cbc10",
   "metadata": {},
   "source": [
    "### Preprocess files and make dataframe\n",
    "1. \n",
    "\n"
   ]
  },
  {
   "cell_type": "code",
   "execution_count": 15,
   "id": "52b9699c",
   "metadata": {},
   "outputs": [
    {
     "ename": "NameError",
     "evalue": "name 'runI2MC' is not defined",
     "output_type": "error",
     "traceback": [
      "Traceback \u001b[1;36m(most recent call last)\u001b[0m:\n",
      "\u001b[1;36m  Cell \u001b[1;32mIn[15], line 33\u001b[1;36m\n\u001b[1;33m    fixDF = runI2MC(path, plotData = False)\u001b[1;36m\n",
      "\u001b[1;31mNameError\u001b[0m\u001b[1;31m:\u001b[0m name 'runI2MC' is not defined\n"
     ]
    }
   ],
   "source": [
    "sys.path.append('./FixationDetection')\n",
    "from I2MC import runI2MC\n",
    "\n",
    "# Path to data folders\n",
    "path_to_folders = 'C:/Users/artem/Dropbox/Appliedwork/CognitiveSolutions/Projects/DeepEye/TechnicalReports/TechnicalReport1/Test_MullerLyer'\n",
    "# path_to_folders = 'D:/Dropbox/Appliedwork/CognitiveSolutions/Projects/DeepEye/TechnicalReports/TechnicalReport1/online/complete'\n",
    "\n",
    "# get all folder names\n",
    "folder_names = os.listdir(path_to_folders)\n",
    "\n",
    "pp_list = []\n",
    "num_calib_attemtps = []\n",
    "for fn in folder_names:\n",
    "    path = os.path.join(path_to_folders, fn, fn+'_record.csv')       \n",
    "        \n",
    "    df = pd.read_csv(path)        \n",
    "\n",
    "df = df.sort_values('frameNr')\n",
    "df = df.drop_duplicates(subset=['user_pred_px_x', 'user_pred_px_y'], ignore_index=True)\n",
    "\n",
    "a = df[df.event=='target_on']\n",
    "r = a[a.target=='right']\n",
    "out = r[r.condition=='arrowHeadsOutward']\n",
    "inw = r[r.condition=='arrowHeadsInward']\n",
    "\n",
    "plt.figure()\n",
    "# plt.scatter(out.user_pred_px_x, out.user_pred_px_y)\n",
    "# plt.scatter(inw.user_pred_px_x, inw.user_pred_px_y)\n",
    "plt.scatter(out.fixationStimX, out.fixationStimY)\n",
    "plt.scatter(out.targetX, out.fixationStimY)\n",
    "\n",
    "\n",
    "fixDF = runI2MC(path, plotData = False)\n",
    "plt.scatter(fixDF.XPos, fixDF.YPos)\n",
    "\n",
    "\n",
    "def compare(start, end, XPos, sampTime):\n",
    "    \n",
    "#     print(start, end, XPos, sampTime)\n",
    "    \n",
    "    if sampTime >= start and sampTime <= end:\n",
    "        return XPos\n",
    "    else:\n",
    "        return 0\n",
    "\n",
    "def find_fixation(sampTime):\n",
    "    \n",
    "    XPos = fixDF.apply(lambda row: compare(row['FixStart'], row['FixEnd'], row['XPos'], sampTime), axis=1)\n",
    "    \n",
    "    return XPos\n",
    "         \n",
    "\n",
    "\n",
    "# q = df.apply(lambda row: find_fixation(row['sampTime']), axis=1)\n",
    "\n",
    "# x = df.apply(lambda row: (row['sampTime']), axis=1)\n",
    "\n",
    "\n",
    "\n",
    "# fixDF.to_csv(self.resultsFile[:-4]+'_fixations.csv', index=False) \n",
    "\n",
    "\n",
    "# a = df[df.event=='target_on']\n",
    "# l = a[a.target=='left']\n",
    "# out = l[l.condition=='arrowHeadsOutward']\n",
    "# inw = l[l.condition=='arrowHeadsInward']\n",
    "\n",
    "# # plt.figure()\n",
    "# plt.scatter(out.user_pred_px_x, out.user_pred_px_y)\n",
    "# plt.scatter(inw.user_pred_px_x, inw.user_pred_px_y)\n",
    "# plt.scatter(out.fixationStimX, out.fixationStimY)\n",
    "# plt.scatter(out.targetX, out.fixationStimY)\n",
    "\n",
    "\n",
    "\n",
    "\n"
   ]
  },
  {
   "cell_type": "markdown",
   "id": "f04c4185",
   "metadata": {},
   "source": [
    "### Plot heatmaps per each condition\n",
    "Gaze positions for all subjects are combined"
   ]
  },
  {
   "cell_type": "code",
   "execution_count": null,
   "id": "eaa1eaad",
   "metadata": {},
   "outputs": [],
   "source": [
    "# Import fixations into output file\n",
    "\n",
    "\n"
   ]
  },
  {
   "cell_type": "markdown",
   "id": "37b03b57",
   "metadata": {},
   "source": [
    "### To do\n",
    "1. Summarize the incomplete datasets (failed calibration, other reasons)"
   ]
  }
 ],
 "metadata": {
  "kernelspec": {
   "display_name": "Python 3 (Spyder)",
   "language": "python3",
   "name": "python3"
  },
  "language_info": {
   "codemirror_mode": {
    "name": "ipython",
    "version": 3
   },
   "file_extension": ".py",
   "mimetype": "text/x-python",
   "name": "python",
   "nbconvert_exporter": "python",
   "pygments_lexer": "ipython3",
   "version": "3.10.10"
  }
 },
 "nbformat": 4,
 "nbformat_minor": 5
}
