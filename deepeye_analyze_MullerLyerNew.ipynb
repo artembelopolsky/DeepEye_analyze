{
 "cells": [
  {
   "cell_type": "code",
   "execution_count": 1,
   "metadata": {},
   "outputs": [],
   "source": [
    "import os\n",
    "import pandas as pd\n",
    "import numpy as np\n",
    "\n",
    "import matplotlib.pyplot as plt\n",
    "\n",
    "# import DeepEye analysis functions\n",
    "from deepeye_analysis_package.preprocessing import getFixationLatency, handle_carryover_fixations_and_merge, addAOI\n",
    "from deepeye_analysis_package.plotting import plot2d\n",
    "\n"
   ]
  },
  {
   "cell_type": "code",
   "execution_count": 10,
   "metadata": {},
   "outputs": [
    {
     "name": "stdout",
     "output_type": "stream",
     "text": [
      "Processing participant 2024_10_13_14_20_16...\n"
     ]
    },
    {
     "name": "stderr",
     "output_type": "stream",
     "text": [
      "c:\\Users\\aby600\\Documents\\GitHub\\DeepEye_analyze\\FixationDetection\\I2MC.py:52: FutureWarning: errors='ignore' is deprecated and will raise in a future version. Use to_numeric without passing `errors` and catch exceptions explicitly instead\n",
      "  origData = origData.apply(pd.to_numeric, errors='ignore')\n"
     ]
    },
    {
     "name": "stdout",
     "output_type": "stream",
     "text": [
      "\n",
      "\n",
      "\n",
      "Importing and processing: \"C:/Users/aby600/Dropbox/Appliedwork/CognitiveSolutions/Projects/DeepEye/TechnicalReports/TechnicalReport1/Test_MullerLyer/pilot3\\2024_10_13_14_20_16\\2024_10_13_14_20_16_record.csv\"\n"
     ]
    },
    {
     "name": "stderr",
     "output_type": "stream",
     "text": [
      "c:\\Users\\aby600\\Documents\\GitHub\\DeepEye_analyze\\FixationDetection\\import_funcs.py:124: FutureWarning: errors='ignore' is deprecated and will raise in a future version. Use to_numeric without passing `errors` and catch exceptions explicitly instead\n",
      "  data = data.apply(pd.to_numeric, errors='ignore')\n"
     ]
    },
    {
     "name": "stdout",
     "output_type": "stream",
     "text": [
      "\tSearching for valid interpolation windows\n",
      "\tReplace interpolation windows with Steffen interpolation\n",
      "\t2-Means clustering started for averaged signal\n",
      "\tDetermining fixations based on clustering weight mean for averaged signal and separate eyes + 2*std\n",
      "\n",
      "\n",
      "I2MC took 5.554229021072388s to finish!\n"
     ]
    },
    {
     "name": "stderr",
     "output_type": "stream",
     "text": [
      "c:\\USERS\\ABY600\\DOCUMENTS\\GITHUB\\DEEPEYE_ANALYZE\\DEEPEYE_ANALYZE\\lib\\site-packages\\numpy\\lib\\_nanfunctions_impl.py:1241: RuntimeWarning: Mean of empty slice\n",
      "  return np.nanmean(a, axis, out=out, keepdims=keepdims)\n",
      "c:\\USERS\\ABY600\\DOCUMENTS\\GITHUB\\DEEPEYE_ANALYZE\\DEEPEYE_ANALYZE\\lib\\site-packages\\numpy\\_core\\fromnumeric.py:3904: RuntimeWarning: Mean of empty slice.\n",
      "  return _methods._mean(a, axis=axis, dtype=dtype,\n",
      "c:\\USERS\\ABY600\\DOCUMENTS\\GITHUB\\DEEPEYE_ANALYZE\\DEEPEYE_ANALYZE\\lib\\site-packages\\numpy\\_core\\_methods.py:147: RuntimeWarning: invalid value encountered in scalar divide\n",
      "  ret = ret.dtype.type(ret / rcount)\n"
     ]
    },
    {
     "name": "stdout",
     "output_type": "stream",
     "text": [
      "Processing complete.\n"
     ]
    }
   ],
   "source": [
    "from deepeye_analysis_package.getFixations import batch_extract_fixations\n",
    "\n",
    "# Determine the environment ('Home' or 'Office') and set the data path accordingly\n",
    "WHERE = 'Home'  # 'Office' or 'Home'\n",
    "\n",
    "if WHERE == 'Home':\n",
    "    path_to_data = r'C:/Users/aby600/Dropbox/Appliedwork/CognitiveSolutions/Projects/DeepEye/TechnicalReports/TechnicalReport1/Test_MullerLyer/pilot3'\n",
    "else:\n",
    "    path_to_data =  r'D:/Dropbox/Appliedwork/CognitiveSolutions/Projects/DeepEye/TechnicalReports/TechnicalReport1/Test_MullerLyer/pilot3'\n",
    "\n",
    "batch_extract_fixations(path_to_data)"
   ]
  },
  {
   "cell_type": "code",
   "execution_count": 2,
   "metadata": {},
   "outputs": [],
   "source": [
    "# Get saccade latency\n",
    "\n",
    "def getSaccLat(df):    \n",
    "\n",
    "    # Get timestamp of when target was presented and add it to the dataframe\n",
    "\n",
    "    # 1) get the first time sample when the target is presented\n",
    "    sampTime_df = df.drop_duplicates(subset=['trialNr'],  keep='first', ignore_index=True)\n",
    "\n",
    "    # 2)extract the columns needed\n",
    "    sampTime_df = sampTime_df[['trialNr', 'sampTime']]\n",
    "\n",
    "    # 3) rename the columns so they would be added\n",
    "    sampTime_df.columns = ['trialNr', 'targSampTime']\n",
    "\n",
    "    # 4) merge the target time into the main df (one time per trial)\n",
    "    df = pd.merge(df, sampTime_df, on=\"trialNr\")\n",
    "\n",
    "    # Extract saccade latencies\n",
    "\n",
    "    # 1) select only rows where fixation started\n",
    "    sl_df = df[df.FixStartEnd == 'fix_start']\n",
    "\n",
    "    # 2) select only rows with large enough preceeding saccade\n",
    "    sl_df = sl_df[sl_df.DistFromPrevFix > 300]\n",
    "\n",
    "    # 3) compute first fixation duration (saccade latency)\n",
    "    sl_df['SaccLat'] = sl_df.PrevFixSampTime - sl_df.targSampTime\n",
    "\n",
    "    # 4) remove rows where negative Saccade Latencies for trials where no fixation end is present\n",
    "    sl_df = sl_df[sl_df.SaccLat > 0]\n",
    "    \n",
    "    return sl_df\n",
    "\n"
   ]
  },
  {
   "cell_type": "code",
   "execution_count": 4,
   "metadata": {},
   "outputs": [],
   "source": [
    "# path_to_data = r'C:/Users/aby600/Dropbox/Appliedwork/CognitiveSolutions/Projects/DeepEye/TechnicalReports/TechnicalReport1/Test_MullerLyer/pilot3'\n",
    "path_to_data = r'D:/Dropbox/Appliedwork/CognitiveSolutions/Projects/DeepEye/TechnicalReports/TechnicalReport1/Test_MullerLyer/pilot3'"
   ]
  },
  {
   "cell_type": "code",
   "execution_count": 7,
   "metadata": {},
   "outputs": [
    {
     "name": "stdout",
     "output_type": "stream",
     "text": [
      "Processing participant 2024_10_13_14_20_16...\n"
     ]
    },
    {
     "data": {
      "image/png": "[encoded data removed]",
      "text/plain": [
       "<Figure size 640x480 with 1 Axes>"
      ]
     },
     "metadata": {},
     "output_type": "display_data"
    }
   ],
   "source": [
    "# Initialize an empty list to hold the processed dataframes\n",
    "output_dfs = []\n",
    "\n",
    "# Get all folder names from the data directory\n",
    "folder_names = [name for name in os.listdir(path_to_data) if os.path.isdir(os.path.join(path_to_data, name))]\n",
    "\n",
    "# Process each participant's data\n",
    "for fn in folder_names:\n",
    "    path_to_file = os.path.join(path_to_data, fn, f'{fn}_record_extra.csv')\n",
    "\n",
    "    print(f'Processing participant {fn}...')\n",
    "\n",
    "    try:\n",
    "        df = pd.read_csv(path_to_file)\n",
    "    except FileNotFoundError:\n",
    "        print(f'File does not exist: {path_to_file}')\n",
    "        continue\n",
    "\n",
    "    # Filter data to only include rows where the target was presented\n",
    "    df1 = df[df['event'] == 'target_on'].copy()\n",
    "\n",
    "    # Add subject ID, and image dimensions to the dataframe\n",
    "   \n",
    "    df1['deepeye_id'] = fn\n",
    "\n",
    "    # # Label trials with too few data points\n",
    "    # a = df1.groupby('trialNr').count().reset_index()\n",
    "    # a = a[['trialNr', 'sampTime']]\n",
    "    # # 3) rename the columns so they would be added\n",
    "    # a.columns = ['trialNr', 'samplesPerTrial']\n",
    "    # df1 = pd.merge(df1, a, on=\"trialNr\")\n",
    "    \n",
    "\n",
    "    sl_df = getSaccLat(df1)\n",
    "\n",
    "    plt.figure()\n",
    "    plt.style.use('ggplot')\n",
    "    plt.hist(sl_df.SaccLat)\n",
    "    plt.xlabel('Saccade latency (ms)')\n",
    "\n",
    "    # 6) merge saccade latencies into main df\n",
    "    sl_df = sl_df[['trialNr', 'SaccLat']]\n",
    "    df1 = pd.merge(df1, sl_df, on=\"trialNr\")\n",
    "    \n",
    "    # Accumulate the processed dataframe for this participant\n",
    "    output_dfs.append(df1)\n",
    "\n",
    "# Concatenate all participants' data into one DataFrame\n",
    "# if output_dfs:\n",
    "#     output_df = pd.concat(output_dfs, ignore_index=True)\n",
    "#     output_file = os.path.join(path_to_analysis, 'allSubjects_ML.csv')\n",
    "#     output_df.to_csv(output_file, index=False)\n",
    "#     print(f'Combined data saved to {output_file}')\n",
    "# else:\n",
    "#     print('No data was processed.')"
   ]
  },
  {
   "cell_type": "code",
   "execution_count": null,
   "metadata": {},
   "outputs": [],
   "source": [
    "def plot_fixationsOutIn(df, cond='', agg='median', title=''):\n",
    "    \n",
    "    plt.style.use('ggplot')\n",
    "#     plt.grid(False)\n",
    "#     plt.set_axis_bgcolor('white')\n",
    "    \n",
    "    \n",
    "    out = df[df.condition=='arrowHeadsOutward']\n",
    "    inw = df[df.condition=='arrowHeadsInward']\n",
    "\n",
    "    if agg=='median':\n",
    "        \n",
    "        outX = out.FixXPos.median()\n",
    "        outY = out.FixYPos.median()\n",
    "\n",
    "        inwX = inw.FixXPos.median()\n",
    "        inwY = inw.FixYPos.median()\n",
    "        \n",
    "    elif agg=='mean':\n",
    "        \n",
    "        outX = out.FixXPos.mean()\n",
    "        outY = out.FixYPos.mean()\n",
    "\n",
    "        inwX = inw.FixXPos.mean()\n",
    "        inwY = inw.FixYPos.mean()\n",
    "        \n",
    "        \n",
    "\n",
    "    plt.figure()    \n",
    "    plt.title(title);\n",
    "    \n",
    "    \n",
    "    out_h = plt.scatter(out.FixXPos, out.FixYPos, c='blue', alpha=0.5, edgecolors='black')\n",
    "    inw_h = plt.scatter(inw.FixXPos, inw.FixYPos, c='orange', alpha=0.5,edgecolors='black')\n",
    "    \n",
    "    plt.scatter(out.fixationStimX, out.fixationStimY, c='red')\n",
    "    plt.scatter(out.targetX, out.fixationStimY, c='green')\n",
    "    \n",
    "    \n",
    "    # plot target and fixation vertical lines\n",
    "    plt.plot(np.ones(df.resY.iloc[0].astype('int')) * df.fixationStimX.iloc[0], np.arange(df.resY.iloc[0]), c='red', lw=1, linestyle='dashed')\n",
    "    plt.plot(np.ones(df.resY.iloc[0].astype('int')) * df.targetX.iloc[0], np.arange(df.resY.iloc[0]), c='green', lw=1, linestyle='dashed')    \n",
    "\n",
    "    plt.scatter(outX, outY, c='purple', edgecolors='black')\n",
    "    plt.scatter(inwX, inwY, c='darkorange', edgecolors='black')\n",
    "    \n",
    "    # plot inward and outward vertical lines\n",
    "    plt.plot(np.ones(df.resY.iloc[0].astype('int')) * outX, np.arange(df.resY.iloc[0]), c='purple', lw=1, linestyle='dashed')\n",
    "    plt.plot(np.ones(df.resY.iloc[0].astype('int')) * inwX, np.arange(df.resY.iloc[0]), c='darkorange', lw=1, linestyle='dashed')    \n",
    "    \n",
    "    plt.xlim((0, df.resX.iloc[0]))\n",
    "    plt.ylim((df.resY.iloc[0], 0))\n",
    "    \n",
    "    plt.xlabel('Horizontal eye position (pixels)')\n",
    "    plt.ylabel('Vertical eye position (pixels)')\n",
    "    \n",
    "    plt.legend((out_h, inw_h), ('outward arrowheads', 'inward arrowheads'), scatterpoints=1)\n",
    "    \n",
    "    \n",
    "    plt.text(150,700,f'Outward Arrow Xpos: {np.round(outX,1)}')\n",
    "    plt.text(150,750,f'Inward Arrow Xpos: {np.round(inwX, 1)}')\n",
    "    \n",
    "    # save figure\n",
    "#     plt.savefig(f'./Figures_MullerLyer/{cond}_OutInw.jpg', dpi=1000, pad_inches=0)\n",
    "\n",
    "\n",
    "    return outX, outY, inwX, inwY\n",
    "\n"
   ]
  },
  {
   "cell_type": "code",
   "execution_count": null,
   "metadata": {},
   "outputs": [],
   "source": [
    "# Min distance from fixaton to target or fixation point in pixels\n",
    "pix_in_cm = df1.resX.iloc[0]/df.scrW_cm.iloc[0]\n",
    "minDist = pix_in_cm * 15\n",
    "\n",
    "# select rows where fixation started (they also have information about when previous fixation ended)\n",
    "i_df = df1[df1.FixStartEnd == 'fix_start']\n",
    "\n",
    "# get samples with large enough preceeding saccade\n",
    "i_df = i_df[i_df.DistFromPrevFix > 300]\n",
    "\n",
    "# select rows where Saccade Latencies are positive (negative menas that trials have no fixation end is present)\n",
    "i_df = i_df[i_df.SaccLat > 50]\n",
    "\n",
    "# select rows where Saccade latencies are fast\n",
    "i_df = i_df[i_df.SaccLat < 300]\n",
    "\n",
    "# select rows where Saccade lands close to the target\n",
    "targets = np.c_[np.array(i_df.targetX), np.array(i_df.fixationStimY)] # get a target vector\n",
    "fixations = np.c_[np.array(i_df.FixXPos), np.array(i_df.FixYPos)] # get a fixation vector\n",
    "# DistFix2Targ = np_euclidean_distance(targets, fixations) # compute vector of distances from fixation to target\n",
    "DistFix2Targ = np.linalg.norm(targets - fixations, axis=1)\n",
    "i_df['DistFix2Targ'] = DistFix2Targ\n",
    "i_df = i_df[i_df.DistFix2Targ <= minDist]\n",
    "\n",
    "# select rows where Saccade starts close to the fixation point\n",
    "fixation_points = np.c_[np.array(i_df.fixationStimX), np.array(i_df.fixationStimY)] # get a fixation points vector\n",
    "prev_fixations = np.c_[np.array(i_df.PrevFixXPos), np.array(i_df.PrevFixYPos)] # get a fixation vector of first fixations in the trial (when fixating the fixation point)\n",
    "# DistPrevFix2FixPoint = np_euclidean_distance(fixation_points, prev_fixations) # compute vector of distances from previous fixation to fixation point\n",
    "DistPrevFix2FixPoint = np.linalg.norm(fixation_points - prev_fixations, axis=1)\n",
    "\n",
    "i_df['DistPrevFix2FixPoint'] = DistPrevFix2FixPoint\n",
    "i_df = i_df[i_df.DistPrevFix2FixPoint <= minDist]\n",
    "\n",
    "# filter out trials with too few samples\n",
    "# i_df = i_df[i_df.samplesPerTrial > 0]\n",
    "\n",
    "Left = i_df[i_df.target=='left']\n",
    "out = Left[Left.condition=='arrowHeadsOutward']\n",
    "inw = Left[Left.condition=='arrowHeadsInward']\n",
    "print(f'Target Left Outward Arrow: {out.FixXPos.mean()}')\n",
    "print(f'Target Left Inward Arrow: {inw.FixXPos.mean()}')\n",
    "\n",
    "Right = i_df[i_df.target=='right']\n",
    "out = Right[Right.condition=='arrowHeadsOutward']\n",
    "inw = Right[Right.condition=='arrowHeadsInward']\n",
    "print(f'Target Right Outward Arrow: {out.FixXPos.mean()}')\n",
    "print(f'Target Right Inward Arrow: {inw.FixXPos.mean()}')\n",
    "\n",
    "\n",
    "# Plot\n",
    "summary_right = plot_fixationsOutIn(Right, cond='right', agg='mean', title='Target Right')\n",
    "summary_left = plot_fixationsOutIn(Left, cond='left', agg='mean', title='Target Left')\n",
    "\n"
   ]
  }
 ],
 "metadata": {
  "kernelspec": {
   "display_name": "deepeye_analyze",
   "language": "python",
   "name": "python3"
  },
  "language_info": {
   "codemirror_mode": {
    "name": "ipython",
    "version": 3
   },
   "file_extension": ".py",
   "mimetype": "text/x-python",
   "name": "python",
   "nbconvert_exporter": "python",
   "pygments_lexer": "ipython3",
   "version": "3.10.8"
  }
 },
 "nbformat": 4,
 "nbformat_minor": 2
}
