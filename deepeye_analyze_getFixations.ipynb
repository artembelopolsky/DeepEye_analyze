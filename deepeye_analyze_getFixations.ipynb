{
 "cells": [
  {
   "cell_type": "markdown",
   "id": "a827ed49",
   "metadata": {},
   "source": [
    "# This notebook is used to extract fixations for each participant"
   ]
  },
  {
   "cell_type": "code",
   "execution_count": null,
   "id": "76bf850f",
   "metadata": {},
   "outputs": [],
   "source": [
    "from deepeye_analysis_package.getFixations import batch_extract_fixations\n",
    "\n",
    "# Determine the environment ('Home' or 'Office') and set the data path accordingly\n",
    "WHERE = 'Home'  # 'Office' or 'Home'\n",
    "\n",
    "if WHERE == 'Home':\n",
    "    path_to_data = r'C:/Users/aby600/Dropbox/Appliedwork/CognitiveSolutions/Projects/DeepEye/TechnicalReports/TechnicalReport1/Test_PreferentialViewing/Pilot_PreferentialViewing/withDelay/Approved/data'\n",
    "else:\n",
    "    # path = r'D:/Dropbox/Appliedwork/CognitiveSolutions/Projects/DeepEye/TechnicalReports/TechnicalReport1/Test_PreferentialViewing/Pilot_PreferentialViewing/Young/Approved'\n",
    "    path_to_data =  r'D:/Dropbox/Appliedwork/CognitiveSolutions/Projects/DeepEye/TechnicalReports/TechnicalReport1/Test_PreferentialViewing/Pilot_PreferentialViewing/withDelay/Approved/data'\n",
    "\n",
    "batch_extract_fixations(path_to_data)"
   ]
  },
  {
   "cell_type": "code",
   "execution_count": null,
   "id": "b90d4d16",
   "metadata": {},
   "outputs": [],
   "source": []
  }
 ],
 "metadata": {
  "kernelspec": {
   "display_name": "DEEPEYE_ANALYZE",
   "language": "python",
   "name": "python3"
  },
  "language_info": {
   "codemirror_mode": {
    "name": "ipython",
    "version": 3
   },
   "file_extension": ".py",
   "mimetype": "text/x-python",
   "name": "python",
   "nbconvert_exporter": "python",
   "pygments_lexer": "ipython3",
   "version": "3.10.10"
  }
 },
 "nbformat": 4,
 "nbformat_minor": 5
}
